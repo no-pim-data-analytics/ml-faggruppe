{
 "cells": [
  {
   "cell_type": "markdown",
   "metadata": {},
   "source": [
    "## Session 4: Embedding - Q&A\n",
    "\n",
    "### Intro\n",
    "\n",
    "Denne notebooken fokuserer på å jobbe med tekstdata on-prem, uten eksterne API-kall. Her er stegene:\n",
    "\n",
    "- **Splitte et dokument til paragrafer:** Del et lengre dokument inn i mindre paragrafer for enklere håndtering.\n",
    "- **Konvertere til embeddings:** Bruk teknikker som BERT eller FastText for å konvertere paragrafene til numeriske vektorer (embeddings).\n",
    "- **Flytte til en vektor-database:** Lagre embeddings i en database som FAISS eller Annoy, som tillater raskt oppslag og sammenligning.\n",
    "- **Finn dokumenter basert på spørsmålet:** Gjennomfør en søkeoperasjon i databasen for å finne de mest relevante paragrafene eller dokumentene basert på spørsmålets embedding.\n",
    "- **Finn svaret i dokumentet:**  Bruk Language Model for å identifisere det mest relevante svaret i valgte paragrafer basert på inngående spørsmål.\n",
    "\n",
    "Vi benytter denne metoden for å håndtere konfidensiell eller intern data uten å måtte dele den med tredjeparter.\n",
    "\n",
    "Selv om OpenAI sin modell er state-of-the-art, er det viktig å merke seg at det er en \"black-box\" i forhold til databehandling.\n",
    "\n",
    "Til slutt vil vi demonstrere hvordan alt dette kan implementeres i et UI ved bruk av Chainlit, inkludert henvisninger til relevante kilder.\n"
   ]
  },
  {
   "cell_type": "markdown",
   "metadata": {},
   "source": [
    "Først trenger vi å installere noen bibloteker.\n",
    "For sentence embedding skal vi bruke [SentenceTransformers ](https://www.sbert.net/) som er gratis.\n",
    "\n",
    "Vi kan bruke også OpenAI sin løsning [text-embedding-ada-002](https://platform.openai.com/docs/guides/embeddings/what-are-embeddings) som er bedre og mye større embeddings (nsize=`1535`), men det koster penger og er et ekstern API. For å lage embeddings for hele Harry Potter bokserien, koster det bare ~1$ for å prossesere 3400 sider med tekst 😅"
   ]
  },
  {
   "cell_type": "code",
   "execution_count": 1,
   "metadata": {},
   "outputs": [
    {
     "name": "stdout",
     "output_type": "stream",
     "text": [
      "Requirement already satisfied: pgvector in /Users/jbjorgen001/miniconda3/lib/python3.11/site-packages (from -r requirements.txt (line 10)) (0.2.3)\n",
      "Requirement already satisfied: psycopg2-binary in /Users/jbjorgen001/miniconda3/lib/python3.11/site-packages (from -r requirements.txt (line 11)) (2.9.8)\n",
      "Requirement already satisfied: sentence-transformers in /Users/jbjorgen001/miniconda3/lib/python3.11/site-packages (from -r requirements.txt (line 12)) (2.2.2)\n",
      "Requirement already satisfied: matplotlib in /Users/jbjorgen001/miniconda3/lib/python3.11/site-packages (from -r requirements.txt (line 13)) (3.8.0)\n",
      "Requirement already satisfied: scikit-learn in /Users/jbjorgen001/miniconda3/lib/python3.11/site-packages (from -r requirements.txt (line 14)) (1.3.1)\n",
      "Collecting pandas==1.5.3 (from -r requirements.txt (line 15))\n",
      "  Downloading pandas-1.5.3-cp311-cp311-macosx_11_0_arm64.whl (10.8 MB)\n",
      "\u001b[2K     \u001b[90m━━━━━━━━━━━━━━━━━━━━━━━━━━━━━━━━━━━━━━━━\u001b[0m \u001b[32m10.8/10.8 MB\u001b[0m \u001b[31m12.4 MB/s\u001b[0m eta \u001b[36m0:00:00\u001b[0m00:01\u001b[0m00:01\u001b[0m\n",
      "\u001b[?25hCollecting numpy~=1.24.1 (from -r requirements.txt (line 16))\n",
      "  Obtaining dependency information for numpy~=1.24.1 from https://files.pythonhosted.org/packages/c0/bc/77635c657a3668cf652806210b8662e1aff84b818a55ba88257abf6637a8/numpy-1.24.4-cp311-cp311-macosx_11_0_arm64.whl.metadata\n",
      "  Downloading numpy-1.24.4-cp311-cp311-macosx_11_0_arm64.whl.metadata (5.6 kB)\n",
      "Collecting rich~=13.6.0 (from -r requirements.txt (line 17))\n",
      "  Obtaining dependency information for rich~=13.6.0 from https://files.pythonhosted.org/packages/be/2a/4e62ff633612f746f88618852a626bbe24226eba5e7ac90e91dcfd6a414e/rich-13.6.0-py3-none-any.whl.metadata\n",
      "  Downloading rich-13.6.0-py3-none-any.whl.metadata (18 kB)\n",
      "Requirement already satisfied: python-dateutil>=2.8.1 in /Users/jbjorgen001/miniconda3/lib/python3.11/site-packages (from pandas==1.5.3->-r requirements.txt (line 15)) (2.8.2)\n",
      "Requirement already satisfied: pytz>=2020.1 in /Users/jbjorgen001/miniconda3/lib/python3.11/site-packages (from pandas==1.5.3->-r requirements.txt (line 15)) (2023.3)\n",
      "Requirement already satisfied: transformers<5.0.0,>=4.6.0 in /Users/jbjorgen001/miniconda3/lib/python3.11/site-packages (from sentence-transformers->-r requirements.txt (line 12)) (4.27.2)\n",
      "Requirement already satisfied: tqdm in /Users/jbjorgen001/miniconda3/lib/python3.11/site-packages (from sentence-transformers->-r requirements.txt (line 12)) (4.65.0)\n",
      "Requirement already satisfied: torch>=1.6.0 in /Users/jbjorgen001/miniconda3/lib/python3.11/site-packages (from sentence-transformers->-r requirements.txt (line 12)) (2.0.1)\n",
      "Requirement already satisfied: torchvision in /Users/jbjorgen001/miniconda3/lib/python3.11/site-packages (from sentence-transformers->-r requirements.txt (line 12)) (0.15.2)\n",
      "Requirement already satisfied: scipy in /Users/jbjorgen001/miniconda3/lib/python3.11/site-packages (from sentence-transformers->-r requirements.txt (line 12)) (1.11.3)\n",
      "Requirement already satisfied: nltk in /Users/jbjorgen001/miniconda3/lib/python3.11/site-packages (from sentence-transformers->-r requirements.txt (line 12)) (3.8.1)\n",
      "Requirement already satisfied: sentencepiece in /Users/jbjorgen001/miniconda3/lib/python3.11/site-packages (from sentence-transformers->-r requirements.txt (line 12)) (0.1.99)\n",
      "Requirement already satisfied: huggingface-hub>=0.4.0 in /Users/jbjorgen001/miniconda3/lib/python3.11/site-packages (from sentence-transformers->-r requirements.txt (line 12)) (0.16.4)\n",
      "Requirement already satisfied: contourpy>=1.0.1 in /Users/jbjorgen001/miniconda3/lib/python3.11/site-packages (from matplotlib->-r requirements.txt (line 13)) (1.1.1)\n",
      "Requirement already satisfied: cycler>=0.10 in /Users/jbjorgen001/miniconda3/lib/python3.11/site-packages (from matplotlib->-r requirements.txt (line 13)) (0.11.0)\n",
      "Requirement already satisfied: fonttools>=4.22.0 in /Users/jbjorgen001/miniconda3/lib/python3.11/site-packages (from matplotlib->-r requirements.txt (line 13)) (4.42.1)\n",
      "Requirement already satisfied: kiwisolver>=1.0.1 in /Users/jbjorgen001/miniconda3/lib/python3.11/site-packages (from matplotlib->-r requirements.txt (line 13)) (1.4.5)\n",
      "Requirement already satisfied: packaging>=20.0 in /Users/jbjorgen001/miniconda3/lib/python3.11/site-packages (from matplotlib->-r requirements.txt (line 13)) (21.3)\n",
      "Requirement already satisfied: pillow>=6.2.0 in /Users/jbjorgen001/miniconda3/lib/python3.11/site-packages (from matplotlib->-r requirements.txt (line 13)) (9.5.0)\n",
      "Requirement already satisfied: pyparsing>=2.3.1 in /Users/jbjorgen001/miniconda3/lib/python3.11/site-packages (from matplotlib->-r requirements.txt (line 13)) (3.1.0)\n",
      "Requirement already satisfied: joblib>=1.1.1 in /Users/jbjorgen001/miniconda3/lib/python3.11/site-packages (from scikit-learn->-r requirements.txt (line 14)) (1.3.2)\n",
      "Requirement already satisfied: threadpoolctl>=2.0.0 in /Users/jbjorgen001/miniconda3/lib/python3.11/site-packages (from scikit-learn->-r requirements.txt (line 14)) (3.2.0)\n",
      "Requirement already satisfied: markdown-it-py>=2.2.0 in /Users/jbjorgen001/miniconda3/lib/python3.11/site-packages (from rich~=13.6.0->-r requirements.txt (line 17)) (2.2.0)\n",
      "Requirement already satisfied: pygments<3.0.0,>=2.13.0 in /Users/jbjorgen001/miniconda3/lib/python3.11/site-packages (from rich~=13.6.0->-r requirements.txt (line 17)) (2.15.1)\n",
      "Requirement already satisfied: filelock in /Users/jbjorgen001/miniconda3/lib/python3.11/site-packages (from huggingface-hub>=0.4.0->sentence-transformers->-r requirements.txt (line 12)) (3.12.4)\n",
      "Requirement already satisfied: fsspec in /Users/jbjorgen001/miniconda3/lib/python3.11/site-packages (from huggingface-hub>=0.4.0->sentence-transformers->-r requirements.txt (line 12)) (2023.6.0)\n",
      "Requirement already satisfied: requests in /Users/jbjorgen001/miniconda3/lib/python3.11/site-packages (from huggingface-hub>=0.4.0->sentence-transformers->-r requirements.txt (line 12)) (2.31.0)\n",
      "Requirement already satisfied: pyyaml>=5.1 in /Users/jbjorgen001/miniconda3/lib/python3.11/site-packages (from huggingface-hub>=0.4.0->sentence-transformers->-r requirements.txt (line 12)) (6.0)\n",
      "Requirement already satisfied: typing-extensions>=3.7.4.3 in /Users/jbjorgen001/miniconda3/lib/python3.11/site-packages (from huggingface-hub>=0.4.0->sentence-transformers->-r requirements.txt (line 12)) (4.7.1)\n",
      "Requirement already satisfied: mdurl~=0.1 in /Users/jbjorgen001/miniconda3/lib/python3.11/site-packages (from markdown-it-py>=2.2.0->rich~=13.6.0->-r requirements.txt (line 17)) (0.1.2)\n",
      "Requirement already satisfied: six>=1.5 in /Users/jbjorgen001/miniconda3/lib/python3.11/site-packages (from python-dateutil>=2.8.1->pandas==1.5.3->-r requirements.txt (line 15)) (1.16.0)\n",
      "Requirement already satisfied: sympy in /Users/jbjorgen001/miniconda3/lib/python3.11/site-packages (from torch>=1.6.0->sentence-transformers->-r requirements.txt (line 12)) (1.12)\n",
      "Requirement already satisfied: networkx in /Users/jbjorgen001/miniconda3/lib/python3.11/site-packages (from torch>=1.6.0->sentence-transformers->-r requirements.txt (line 12)) (3.1)\n",
      "Requirement already satisfied: jinja2 in /Users/jbjorgen001/miniconda3/lib/python3.11/site-packages (from torch>=1.6.0->sentence-transformers->-r requirements.txt (line 12)) (3.1.2)\n",
      "Requirement already satisfied: regex!=2019.12.17 in /Users/jbjorgen001/miniconda3/lib/python3.11/site-packages (from transformers<5.0.0,>=4.6.0->sentence-transformers->-r requirements.txt (line 12)) (2023.10.3)\n",
      "Requirement already satisfied: tokenizers!=0.11.3,<0.14,>=0.11.1 in /Users/jbjorgen001/miniconda3/lib/python3.11/site-packages (from transformers<5.0.0,>=4.6.0->sentence-transformers->-r requirements.txt (line 12)) (0.13.3)\n",
      "Requirement already satisfied: click in /Users/jbjorgen001/miniconda3/lib/python3.11/site-packages (from nltk->sentence-transformers->-r requirements.txt (line 12)) (8.1.4)\n",
      "Requirement already satisfied: MarkupSafe>=2.0 in /Users/jbjorgen001/miniconda3/lib/python3.11/site-packages (from jinja2->torch>=1.6.0->sentence-transformers->-r requirements.txt (line 12)) (2.1.3)\n",
      "Requirement already satisfied: charset-normalizer<4,>=2 in /Users/jbjorgen001/miniconda3/lib/python3.11/site-packages (from requests->huggingface-hub>=0.4.0->sentence-transformers->-r requirements.txt (line 12)) (3.1.0)\n",
      "Requirement already satisfied: idna<4,>=2.5 in /Users/jbjorgen001/miniconda3/lib/python3.11/site-packages (from requests->huggingface-hub>=0.4.0->sentence-transformers->-r requirements.txt (line 12)) (3.4)\n",
      "Requirement already satisfied: urllib3<3,>=1.21.1 in /Users/jbjorgen001/miniconda3/lib/python3.11/site-packages (from requests->huggingface-hub>=0.4.0->sentence-transformers->-r requirements.txt (line 12)) (1.26.16)\n",
      "Requirement already satisfied: certifi>=2017.4.17 in /Users/jbjorgen001/miniconda3/lib/python3.11/site-packages (from requests->huggingface-hub>=0.4.0->sentence-transformers->-r requirements.txt (line 12)) (2023.5.7)\n",
      "Requirement already satisfied: mpmath>=0.19 in /Users/jbjorgen001/miniconda3/lib/python3.11/site-packages (from sympy->torch>=1.6.0->sentence-transformers->-r requirements.txt (line 12)) (1.3.0)\n",
      "Downloading numpy-1.24.4-cp311-cp311-macosx_11_0_arm64.whl (13.8 MB)\n",
      "\u001b[2K   \u001b[90m━━━━━━━━━━━━━━━━━━━━━━━━━━━━━━━━━━━━━━━━\u001b[0m \u001b[32m13.8/13.8 MB\u001b[0m \u001b[31m11.2 MB/s\u001b[0m eta \u001b[36m0:00:00\u001b[0m00:01\u001b[0m00:01\u001b[0m\n",
      "\u001b[?25hDownloading rich-13.6.0-py3-none-any.whl (239 kB)\n",
      "\u001b[2K   \u001b[90m━━━━━━━━━━━━━━━━━━━━━━━━━━━━━━━━━━━━━━━━\u001b[0m \u001b[32m239.8/239.8 kB\u001b[0m \u001b[31m11.6 MB/s\u001b[0m eta \u001b[36m0:00:00\u001b[0m\n",
      "\u001b[?25hInstalling collected packages: numpy, rich, pandas\n",
      "  Attempting uninstall: numpy\n",
      "    Found existing installation: numpy 1.26.0\n",
      "    Uninstalling numpy-1.26.0:\n",
      "      Successfully uninstalled numpy-1.26.0\n",
      "  Attempting uninstall: rich\n",
      "    Found existing installation: rich 13.4.2\n",
      "    Uninstalling rich-13.4.2:\n",
      "      Successfully uninstalled rich-13.4.2\n",
      "  Attempting uninstall: pandas\n",
      "    Found existing installation: pandas 2.1.1\n",
      "    Uninstalling pandas-2.1.1:\n",
      "      Successfully uninstalled pandas-2.1.1\n",
      "Successfully installed numpy-1.24.4 pandas-1.5.3 rich-13.6.0\n"
     ]
    }
   ],
   "source": [
    "!pip install -r requirements.txt"
   ]
  },
  {
   "cell_type": "code",
   "execution_count": 22,
   "metadata": {},
   "outputs": [],
   "source": [
    "# Vi lever litt farlig nå og bare ignorer all advarsel flaggene fra bibloteker 😈\n",
    "import warnings\n",
    "warnings.filterwarnings(\"ignore\")\n",
    "\n",
    "# La oss bruke rich for mer formatteringer og emojis 🤓\n",
    "from rich import print\n"
   ]
  },
  {
   "cell_type": "markdown",
   "metadata": {},
   "source": [
    "Vi starter med å lage en embedding og bruker [multi-qa-MiniLM-L6-cos-v1](https://huggingface.co/sentence-transformers/multi-qa-MiniLM-L6-cos-v1) modellen til å lage embeddings."
   ]
  },
  {
   "cell_type": "code",
   "execution_count": 3,
   "metadata": {},
   "outputs": [
    {
     "data": {
      "text/plain": [
       "array([ 2.13617951e-01,  3.64456535e-03,  6.68863431e-02, -8.09083432e-02,\n",
       "       -6.88738525e-02, -2.95351166e-02,  5.69824129e-02,  4.15854380e-02,\n",
       "       -8.66393521e-02, -1.54837745e-03, -1.66739873e-03, -6.20796233e-02,\n",
       "       -2.15016156e-02, -2.83825044e-02, -3.12040895e-02, -3.62611115e-02,\n",
       "       -1.58209819e-03, -9.05911103e-02, -8.14452767e-02, -1.81068089e-02,\n",
       "        1.34018764e-01, -4.30189930e-02,  5.22156283e-02,  6.75390512e-02,\n",
       "       -7.64247403e-02,  2.46958286e-02,  1.51146343e-02,  9.71993059e-02,\n",
       "        1.88188767e-03,  4.02951911e-02, -8.18578247e-03, -4.77733165e-02,\n",
       "       -2.18554437e-02, -3.84991476e-03,  3.99325341e-02,  3.86554585e-03,\n",
       "        1.72126293e-02, -3.02566728e-03,  3.86403129e-02, -4.21452373e-02,\n",
       "        4.41678949e-02, -4.23261262e-02,  6.50313348e-02, -1.42178694e-02,\n",
       "        2.11600978e-02,  5.53219989e-02,  2.70084124e-02,  5.25653437e-02,\n",
       "       -5.19815879e-03, -9.78330597e-02,  8.21333826e-02,  3.92637029e-02,\n",
       "        1.02433357e-02, -3.63305956e-02, -1.19901532e-02, -4.87618335e-02,\n",
       "       -4.90857959e-02, -5.21558756e-03, -6.15250878e-03, -3.83413993e-02,\n",
       "       -3.33614014e-02,  7.55495578e-02, -8.97648395e-04, -3.19796763e-02,\n",
       "        2.25692615e-02,  7.87591375e-03, -4.40275818e-02, -4.53552231e-02,\n",
       "       -5.89252496e-03,  1.89016610e-02, -2.50911973e-02, -2.65336055e-02,\n",
       "       -2.09473725e-02, -1.14262681e-02, -4.31049280e-02, -1.80180259e-02,\n",
       "       -5.54716401e-02,  6.30492568e-02, -7.35790059e-02,  2.78593488e-02,\n",
       "        3.85319628e-02, -1.48887737e-02,  5.14054596e-02,  1.15261890e-01,\n",
       "       -2.81070881e-02, -7.30762482e-02,  4.17783633e-02,  2.63716392e-02,\n",
       "       -2.19981815e-03, -5.12833744e-02, -4.12593363e-03, -4.86132689e-02,\n",
       "       -6.07541725e-02,  1.31373197e-01, -1.83186289e-02, -4.39769402e-02,\n",
       "        3.59390839e-03, -3.10840700e-02,  1.13534071e-02,  6.66310340e-02,\n",
       "       -2.12458894e-02,  7.65107423e-02,  2.24000476e-02,  5.01323864e-02,\n",
       "       -4.59821802e-03, -6.60709515e-02, -3.37272510e-02,  6.17322214e-02,\n",
       "        1.23850986e-01, -1.14536881e-01, -1.50983399e-02, -3.16600464e-02,\n",
       "       -4.46060393e-03,  7.62496516e-02,  9.59819835e-03, -9.65626314e-02,\n",
       "        4.00915928e-02,  8.15798622e-03,  1.62077677e-02, -8.66883621e-03,\n",
       "        5.91754802e-02,  5.49818166e-02, -4.19077324e-03,  1.19988844e-02,\n",
       "       -4.69744653e-02,  4.27874438e-02,  3.00121102e-02,  1.02355362e-30,\n",
       "       -9.44365934e-02, -2.41045635e-02,  5.60188815e-02,  9.71832871e-02,\n",
       "        8.55895632e-04,  4.13262211e-02,  1.20358057e-02,  4.99274321e-02,\n",
       "        4.32325974e-02,  3.33752558e-02,  3.32424492e-02, -4.64144833e-02,\n",
       "        4.15930189e-02,  1.87436963e-04,  4.62495908e-02,  2.07239147e-02,\n",
       "        8.16823319e-02,  5.09263389e-02, -3.76979038e-02, -8.03062320e-03,\n",
       "       -4.60186116e-02,  2.03725304e-02,  9.76987034e-02,  3.03445049e-02,\n",
       "       -2.15788800e-02, -4.44341339e-02, -1.69301964e-02,  1.09789342e-01,\n",
       "        5.12048155e-02, -2.35757278e-03, -3.67279979e-03, -5.71755581e-02,\n",
       "       -2.82376185e-02,  1.68270450e-02, -2.97405608e-02, -4.27808315e-02,\n",
       "       -4.99745049e-02, -6.26322851e-02,  9.28607285e-02,  1.19504798e-02,\n",
       "       -1.89038794e-02, -6.66557699e-02,  4.18416485e-02, -2.34817099e-02,\n",
       "        1.77837517e-02,  3.95251773e-02,  9.97254741e-04, -1.25344247e-01,\n",
       "       -7.00214552e-03, -2.13540019e-03,  9.68299657e-02,  2.43030470e-02,\n",
       "       -5.12941331e-02, -1.98081527e-02,  4.08601202e-03,  6.13333024e-02,\n",
       "        6.03561811e-02,  9.31020081e-03,  9.36201811e-02,  6.00084737e-02,\n",
       "       -3.24375890e-02,  9.13298354e-02,  3.84934172e-02, -1.32736387e-02,\n",
       "        9.23235118e-02, -1.81839708e-02,  6.50839740e-03, -4.15119641e-02,\n",
       "       -8.85367393e-02,  5.32657199e-04,  4.82698306e-02,  5.49052879e-02,\n",
       "        1.05205595e-01, -2.31535453e-02, -7.20602795e-02, -2.59070899e-02,\n",
       "       -8.21448639e-02,  1.47457663e-02, -4.19465192e-02,  1.00057386e-01,\n",
       "        3.72191984e-03,  8.34641792e-03,  2.65951883e-02, -8.90747905e-02,\n",
       "        3.64427716e-02, -9.68416184e-02, -6.87470054e-03, -2.92667337e-02,\n",
       "       -8.15369131e-04, -6.91652671e-02, -8.24688375e-02, -4.19990160e-02,\n",
       "       -4.96841967e-02, -3.70004289e-02, -3.27538513e-02, -1.84508201e-33,\n",
       "        6.56556990e-03, -3.77545245e-02, -6.04100451e-02, -7.99827650e-03,\n",
       "       -2.79832147e-02,  4.34851050e-02,  3.70269492e-02,  1.35954350e-01,\n",
       "       -6.13719821e-02,  5.21737263e-02, -4.69192304e-02,  3.64511423e-02,\n",
       "        7.29808584e-02,  1.54457493e-02,  5.88032305e-02, -1.12464698e-02,\n",
       "        6.09826185e-02, -7.29581788e-02,  3.42728272e-02,  4.68246303e-02,\n",
       "        5.88920191e-02, -5.34531139e-02, -2.69507989e-02,  2.84211263e-02,\n",
       "       -3.53615172e-02, -6.27860203e-02, -3.75101119e-02, -3.52890678e-02,\n",
       "       -3.97827737e-02, -1.92619245e-02, -9.33685526e-02, -2.08793994e-04,\n",
       "        2.33602785e-02, -2.46442668e-03,  4.11946028e-02, -5.48704825e-02,\n",
       "        3.90390530e-02,  6.10901602e-03,  1.00279734e-01,  4.51467223e-02,\n",
       "       -6.04403019e-02, -7.69857168e-02,  5.36475629e-02, -4.93321288e-03,\n",
       "        6.87704757e-02, -3.62974443e-02, -2.43804976e-02, -1.86335146e-02,\n",
       "        1.28814122e-02,  2.39746622e-03,  2.95557734e-02,  6.04462326e-02,\n",
       "       -4.14560921e-02, -7.67042115e-02,  2.89235134e-02,  1.24315708e-03,\n",
       "       -2.96941381e-02,  2.20759623e-02, -5.92690241e-03, -7.77339637e-02,\n",
       "       -4.67317775e-02, -3.77236009e-02,  4.74775843e-02,  1.34022692e-02,\n",
       "       -7.52056688e-02,  5.59507273e-02, -1.39803428e-03, -6.15103310e-03,\n",
       "       -3.87432165e-02,  6.07326478e-02, -9.54119191e-02, -1.21076172e-03,\n",
       "       -7.88990781e-03, -2.79227681e-02, -7.95431733e-02, -4.37752865e-02,\n",
       "        6.67498484e-02,  3.26671563e-02,  3.84268463e-02,  4.00712043e-02,\n",
       "        4.23190705e-02,  3.78179848e-02,  1.11773089e-01, -9.30834711e-02,\n",
       "        3.23268697e-02, -2.48600207e-02,  1.32738802e-04,  8.84855911e-02,\n",
       "       -5.65869622e-02, -1.99337546e-02,  4.16782089e-02,  4.38835798e-03,\n",
       "       -4.85987142e-02, -7.71878436e-02,  4.12787683e-02, -3.27258839e-33,\n",
       "       -3.41550335e-02, -1.73220821e-02, -1.16057517e-02,  1.03006233e-02,\n",
       "       -2.44137086e-02, -5.84485494e-02,  2.88824961e-02,  8.71700197e-02,\n",
       "       -1.15365256e-02,  3.33245806e-02,  4.00016680e-02, -4.31280248e-02,\n",
       "       -6.43387064e-02,  4.42172438e-02, -7.21545964e-02, -5.63662760e-02,\n",
       "       -7.45501295e-02, -2.93081719e-02, -1.31435050e-02,  3.38727385e-02,\n",
       "        1.25031713e-02, -2.81029698e-02, -1.94163583e-02, -3.35515547e-03,\n",
       "        2.73674224e-02, -1.37625918e-01,  6.30360970e-04,  3.65878232e-02,\n",
       "       -7.34476000e-02, -5.31716608e-02,  4.77601551e-02, -3.09599210e-02,\n",
       "       -4.97653224e-02,  3.72832306e-02, -2.78108437e-02, -6.86093345e-02,\n",
       "        1.18241962e-02,  5.25973924e-02, -2.59084031e-02, -2.94635296e-02,\n",
       "        2.10955255e-02, -5.30489907e-02,  1.29042976e-02, -2.61077508e-02,\n",
       "        1.02284193e-01,  1.55483261e-02, -3.76462303e-02, -8.01902148e-04,\n",
       "        2.71343510e-03, -4.04213965e-02,  4.78017777e-02,  3.77252363e-02,\n",
       "        3.16370204e-02,  4.11161445e-02,  9.80671421e-02,  3.41692083e-02,\n",
       "       -1.11610880e-02, -1.55894430e-02, -2.59079747e-02,  3.89276147e-02,\n",
       "        1.49862114e-02, -7.97810499e-03, -7.03638569e-02,  3.92473899e-02],\n",
       "      dtype=float32)"
      ]
     },
     "execution_count": 3,
     "metadata": {},
     "output_type": "execute_result"
    }
   ],
   "source": [
    "from sentence_transformers import SentenceTransformer, util\n",
    "\n",
    "model = SentenceTransformer('multi-qa-MiniLM-L6-cos-v1')\n",
    "\n",
    "org_text = 'How big is London'\n",
    "embedding_01 = model.encode(org_text)\n",
    "embedding_01"
   ]
  },
  {
   "cell_type": "markdown",
   "metadata": {},
   "source": [
    "### Oppgave: \n",
    "Hvor stor er embeddings vektoren?"
   ]
  },
  {
   "cell_type": "markdown",
   "metadata": {},
   "source": [
    "La oss lage flere setninger, og konvertere de til embeddings"
   ]
  },
  {
   "cell_type": "code",
   "execution_count": 4,
   "metadata": {},
   "outputs": [
    {
     "data": {
      "text/plain": [
       "array([[ 0.12549888, -0.01423618,  0.06823369, ...,  0.04764377,\n",
       "        -0.07658357,  0.01014997],\n",
       "       [ 0.20452395, -0.01486546,  0.03295972, ...,  0.01887436,\n",
       "        -0.07937784,  0.04315902],\n",
       "       [ 0.17675205, -0.0752627 , -0.01795857, ...,  0.01271262,\n",
       "        -0.0066539 ,  0.02282776],\n",
       "       [ 0.17783879, -0.03708382, -0.00985559, ...,  0.01986176,\n",
       "         0.0187079 ,  0.09004077],\n",
       "       [ 0.05394064,  0.02046371,  0.05930651, ...,  0.01930566,\n",
       "         0.00483003,  0.09824789],\n",
       "       [ 0.08769707,  0.00034237, -0.03004534, ...,  0.01354876,\n",
       "        -0.02880585, -0.04013046]], dtype=float32)"
      ]
     },
     "execution_count": 4,
     "metadata": {},
     "output_type": "execute_result"
    }
   ],
   "source": [
    "text = ['London has 9,787,426 inhabitants at the 2011 census',\n",
    "        'London is known for its finacial district',\n",
    "        'The capital of United Kingdom is',\n",
    "        'The largest city in England',\n",
    "        'BREXIT',\n",
    "        'The royal corgis lived in Westminster',\n",
    "                                  ]\n",
    "\n",
    "set_of_embedding = model.encode(text)\n",
    "set_of_embedding"
   ]
  },
  {
   "cell_type": "markdown",
   "metadata": {},
   "source": [
    "Nå har vi et sett med embeddings, la oss sammenligne de med orginal teksten vi hadde tidligere (\"How big is London?\")\n",
    "Vi bruker en av de vanligste metriker,  [Cosine Similarity](https://scikit-learn.org/stable/modules/metrics.html#cosine-similarity)"
   ]
  },
  {
   "cell_type": "code",
   "execution_count": 5,
   "metadata": {},
   "outputs": [
    {
     "data": {
      "text/html": [
       "<pre style=\"white-space:pre;overflow-x:auto;line-height:normal;font-family:Menlo,'DejaVu Sans Mono',consolas,'Courier New',monospace\">Comparision with the <span style=\"color: #008000; text-decoration-color: #008000\">'How big is London'</span>:\n",
       "</pre>\n"
      ],
      "text/plain": [
       "Comparision with the \u001b[32m'How big is London'\u001b[0m:\n"
      ]
     },
     "metadata": {},
     "output_type": "display_data"
    },
    {
     "data": {
      "text/html": [
       "<pre style=\"white-space:pre;overflow-x:auto;line-height:normal;font-family:Menlo,'DejaVu Sans Mono',consolas,'Courier New',monospace\"> <span style=\"color: #008080; text-decoration-color: #008080; font-weight: bold\">0.55</span> -&gt;  London has <span style=\"color: #008080; text-decoration-color: #008080; font-weight: bold\">9</span>,<span style=\"color: #008080; text-decoration-color: #008080; font-weight: bold\">787</span>,<span style=\"color: #008080; text-decoration-color: #008080; font-weight: bold\">426</span> inhabitants at the <span style=\"color: #008080; text-decoration-color: #008080; font-weight: bold\">2011</span> census\n",
       "</pre>\n"
      ],
      "text/plain": [
       " \u001b[1;36m0.55\u001b[0m ->  London has \u001b[1;36m9\u001b[0m,\u001b[1;36m787\u001b[0m,\u001b[1;36m426\u001b[0m inhabitants at the \u001b[1;36m2011\u001b[0m census\n"
      ]
     },
     "metadata": {},
     "output_type": "display_data"
    },
    {
     "data": {
      "text/html": [
       "<pre style=\"white-space:pre;overflow-x:auto;line-height:normal;font-family:Menlo,'DejaVu Sans Mono',consolas,'Courier New',monospace\"> <span style=\"color: #008080; text-decoration-color: #008080; font-weight: bold\">0.63</span> -&gt;  London is known for its finacial district\n",
       "</pre>\n"
      ],
      "text/plain": [
       " \u001b[1;36m0.63\u001b[0m ->  London is known for its finacial district\n"
      ]
     },
     "metadata": {},
     "output_type": "display_data"
    },
    {
     "data": {
      "text/html": [
       "<pre style=\"white-space:pre;overflow-x:auto;line-height:normal;font-family:Menlo,'DejaVu Sans Mono',consolas,'Courier New',monospace\"> <span style=\"color: #008080; text-decoration-color: #008080; font-weight: bold\">0.45</span> -&gt;  The capital of United Kingdom is\n",
       "</pre>\n"
      ],
      "text/plain": [
       " \u001b[1;36m0.45\u001b[0m ->  The capital of United Kingdom is\n"
      ]
     },
     "metadata": {},
     "output_type": "display_data"
    },
    {
     "data": {
      "text/html": [
       "<pre style=\"white-space:pre;overflow-x:auto;line-height:normal;font-family:Menlo,'DejaVu Sans Mono',consolas,'Courier New',monospace\"> <span style=\"color: #008080; text-decoration-color: #008080; font-weight: bold\">0.61</span> -&gt;  The largest city in England\n",
       "</pre>\n"
      ],
      "text/plain": [
       " \u001b[1;36m0.61\u001b[0m ->  The largest city in England\n"
      ]
     },
     "metadata": {},
     "output_type": "display_data"
    },
    {
     "data": {
      "text/html": [
       "<pre style=\"white-space:pre;overflow-x:auto;line-height:normal;font-family:Menlo,'DejaVu Sans Mono',consolas,'Courier New',monospace\"> <span style=\"color: #008080; text-decoration-color: #008080; font-weight: bold\">0.31</span> -&gt;  BREXIT\n",
       "</pre>\n"
      ],
      "text/plain": [
       " \u001b[1;36m0.31\u001b[0m ->  BREXIT\n"
      ]
     },
     "metadata": {},
     "output_type": "display_data"
    },
    {
     "data": {
      "text/html": [
       "<pre style=\"white-space:pre;overflow-x:auto;line-height:normal;font-family:Menlo,'DejaVu Sans Mono',consolas,'Courier New',monospace\"> <span style=\"color: #008080; text-decoration-color: #008080; font-weight: bold\">0.30</span> -&gt;  The royal corgis lived in Westminster\n",
       "</pre>\n"
      ],
      "text/plain": [
       " \u001b[1;36m0.30\u001b[0m ->  The royal corgis lived in Westminster\n"
      ]
     },
     "metadata": {},
     "output_type": "display_data"
    }
   ],
   "source": [
    "from sklearn.metrics.pairwise import cosine_similarity\n",
    "\n",
    "cos_sim = cosine_similarity(embedding_01.reshape(1, -1), set_of_embedding)[0]\n",
    "\n",
    "print(f\"Comparision with the '{org_text}':\")\n",
    "for sim, txt in zip(cos_sim, text):\n",
    "    print(f\" {sim:0.2f} ->  {txt}\" )"
   ]
  },
  {
   "cell_type": "markdown",
   "metadata": {},
   "source": [
    "### Oppgave\n",
    "\n",
    "Basert på `set_of_embedding`, ta gjennomsnitt av vektorene slik at det blir en *global average vector*  og sjekk \"similarity\" igjen."
   ]
  },
  {
   "cell_type": "code",
   "execution_count": 6,
   "metadata": {},
   "outputs": [],
   "source": [
    "# TODO: Basert på set_of_embedding, ta gjennomsnitt av vektorene slik at det blir en  og sjekk \"similarity\" igjen\n",
    "\n",
    "\n",
    "## Et eksempel:\n",
    "##print(\"Similarity:\", cosine_similarity(embedding_01.reshape(1, -1), set_of_embedding.mean(axis=0).reshape(1, -1)))"
   ]
  },
  {
   "cell_type": "markdown",
   "metadata": {},
   "source": [
    "Vi kan bruke cosine-similaritet for å måle vinkelavstanden mellom vektorer, noe som hjelper oss å finne vektorer som er nærmest eller lengst fra hverandre i et datasett.\n",
    "\n",
    "En annen metode er å bruke embeddings, som er vektorrepresentasjoner av objekter, for å finne outliers. Embeddings kan fange opp mer komplekse mønstre, noe som kan være nyttig for å identifisere unike eller avvikende elementer i dataene.\n",
    "\n",
    "### Oppgave\n",
    "1. Tenk på hvilken bruksområder dette er nyttig i.\n",
    "2. I neste kode-blokk, lekk inn en urelatert setning som ikkje er i nærheten til de andre datapunktene for å skape en outlier i datasettet.\n",
    "3. Sjekk ut hvordan cosine similarity til den setningen du la inn."
   ]
  },
  {
   "cell_type": "code",
   "execution_count": 7,
   "metadata": {},
   "outputs": [],
   "source": [
    "\n",
    "# TODO: Legg inn en random setning som ikkje er i nærheten til de andre datapunktene og append det til det eksisterende datasettet\n",
    "\n",
    "data = ['London has 9,787,426 inhabitants at the 2011 census',\n",
    "        'London is known for its finacial district',\n",
    "        'Oslo is the capital in Norway',\n",
    "        'Haugesund is located on the west coast of Norway',\n",
    "        'Norway has the longest coastline in the world.',\n",
    "        'Tromsø is often called the northern Paris',\n",
    "        'Paris is the captial of France',\n",
    "        ]\n",
    "\n",
    "input_text = \"\"\"I love working with data science\"\"\"\n",
    "\n",
    "\n",
    "# TODO: Append til datasettet\n",
    "\n",
    "## data.append(input_text)\n",
    "\n"
   ]
  },
  {
   "cell_type": "markdown",
   "metadata": {},
   "source": [
    "\n",
    "Vi skal nå bruke en metode for å identifisere outliers, den heter IsolationForest.\n",
    "\n",
    "**IsolationForest** er en algoritme for outlier-deteksjon. Den deler opp rommet hvor dataene befinner seg ved å lage *trær*, og isolerer hver datapunkt ved å telle antall delinger nødvendig for å isolere det. Outliers blir vanligvis isolert raskere, og dermed kan de identifiseres."
   ]
  },
  {
   "cell_type": "code",
   "execution_count": 69,
   "metadata": {},
   "outputs": [
    {
     "data": {
      "text/html": [
       "<pre style=\"white-space:pre;overflow-x:auto;line-height:normal;font-family:Menlo,'DejaVu Sans Mono',consolas,'Courier New',monospace\"><span style=\"color: #008080; text-decoration-color: #008080; font-weight: bold\">8</span> predictions. Set of possible values: <span style=\"font-weight: bold\">{</span><span style=\"color: #008000; text-decoration-color: #008000\">'❌'</span>, <span style=\"color: #008000; text-decoration-color: #008000\">'✅'</span><span style=\"font-weight: bold\">}</span>\n",
       "</pre>\n"
      ],
      "text/plain": [
       "\u001b[1;36m8\u001b[0m predictions. Set of possible values: \u001b[1m{\u001b[0m\u001b[32m'❌'\u001b[0m, \u001b[32m'✅'\u001b[0m\u001b[1m}\u001b[0m\n"
      ]
     },
     "metadata": {},
     "output_type": "display_data"
    },
    {
     "data": {
      "text/html": [
       "<pre style=\"white-space:pre;overflow-x:auto;line-height:normal;font-family:Menlo,'DejaVu Sans Mono',consolas,'Courier New',monospace\">✅ London has <span style=\"color: #008080; text-decoration-color: #008080; font-weight: bold\">9</span>,<span style=\"color: #008080; text-decoration-color: #008080; font-weight: bold\">787</span>,<span style=\"color: #008080; text-decoration-color: #008080; font-weight: bold\">426</span> inhabitants at the <span style=\"color: #008080; text-decoration-color: #008080; font-weight: bold\">2011</span> census\n",
       "</pre>\n"
      ],
      "text/plain": [
       "✅ London has \u001b[1;36m9\u001b[0m,\u001b[1;36m787\u001b[0m,\u001b[1;36m426\u001b[0m inhabitants at the \u001b[1;36m2011\u001b[0m census\n"
      ]
     },
     "metadata": {},
     "output_type": "display_data"
    },
    {
     "data": {
      "text/html": [
       "<pre style=\"white-space:pre;overflow-x:auto;line-height:normal;font-family:Menlo,'DejaVu Sans Mono',consolas,'Courier New',monospace\">✅ London is known for its finacial district\n",
       "</pre>\n"
      ],
      "text/plain": [
       "✅ London is known for its finacial district\n"
      ]
     },
     "metadata": {},
     "output_type": "display_data"
    },
    {
     "data": {
      "text/html": [
       "<pre style=\"white-space:pre;overflow-x:auto;line-height:normal;font-family:Menlo,'DejaVu Sans Mono',consolas,'Courier New',monospace\">✅ Oslo is the capital in Norway\n",
       "</pre>\n"
      ],
      "text/plain": [
       "✅ Oslo is the capital in Norway\n"
      ]
     },
     "metadata": {},
     "output_type": "display_data"
    },
    {
     "data": {
      "text/html": [
       "<pre style=\"white-space:pre;overflow-x:auto;line-height:normal;font-family:Menlo,'DejaVu Sans Mono',consolas,'Courier New',monospace\">✅ Haugesund is located on the west coast of Norway\n",
       "</pre>\n"
      ],
      "text/plain": [
       "✅ Haugesund is located on the west coast of Norway\n"
      ]
     },
     "metadata": {},
     "output_type": "display_data"
    },
    {
     "data": {
      "text/html": [
       "<pre style=\"white-space:pre;overflow-x:auto;line-height:normal;font-family:Menlo,'DejaVu Sans Mono',consolas,'Courier New',monospace\">✅ Norway has the longest coastline in the world.\n",
       "</pre>\n"
      ],
      "text/plain": [
       "✅ Norway has the longest coastline in the world.\n"
      ]
     },
     "metadata": {},
     "output_type": "display_data"
    },
    {
     "data": {
      "text/html": [
       "<pre style=\"white-space:pre;overflow-x:auto;line-height:normal;font-family:Menlo,'DejaVu Sans Mono',consolas,'Courier New',monospace\">✅ Tromsø is often called the northern Paris\n",
       "</pre>\n"
      ],
      "text/plain": [
       "✅ Tromsø is often called the northern Paris\n"
      ]
     },
     "metadata": {},
     "output_type": "display_data"
    },
    {
     "data": {
      "text/html": [
       "<pre style=\"white-space:pre;overflow-x:auto;line-height:normal;font-family:Menlo,'DejaVu Sans Mono',consolas,'Courier New',monospace\">✅ Paris is the captial of France\n",
       "</pre>\n"
      ],
      "text/plain": [
       "✅ Paris is the captial of France\n"
      ]
     },
     "metadata": {},
     "output_type": "display_data"
    },
    {
     "data": {
      "text/html": [
       "<pre style=\"white-space:pre;overflow-x:auto;line-height:normal;font-family:Menlo,'DejaVu Sans Mono',consolas,'Courier New',monospace\">❌ I love working with data science\n",
       "</pre>\n"
      ],
      "text/plain": [
       "❌ I love working with data science\n"
      ]
     },
     "metadata": {},
     "output_type": "display_data"
    }
   ],
   "source": [
    "\n",
    "from sklearn.ensemble import IsolationForest\n",
    "sets_of_embedding = model.encode(data)\n",
    "\n",
    "clf = IsolationForest(n_estimators=100,\n",
    "                     contamination='auto', \n",
    "                     random_state=42,\n",
    "                     ) \n",
    "preds = clf.fit_predict(sets_of_embedding)\n",
    "\n",
    "preds = [\"❌\"  if p == -1  else \"✅\"  for p in preds ]\n",
    "print(f\"{len(preds)} predictions. Set of possible values: {set(preds)}\")\n",
    "\n",
    "for p, t in zip(preds, data):\n",
    "    #out_txt = \"❌\" if p == -1 else \"✅\"\n",
    "    \n",
    "    print(f\"{p} {t}\")\n",
    "\n",
    "## TODO: Test forskjellige parametere! 🤓"
   ]
  },
  {
   "cell_type": "markdown",
   "metadata": {},
   "source": [
    "### Vektor database\n",
    "\n",
    "Vi skal nå bruke en PostgreSQL database sammen med pgVector for å lagre en del embeddings.\n",
    "Vi benytter L2-avstand '<->' for oppslag; en annen tilnærming er å beregne vinkelen mellom vektorer med '<=>'.\n",
    "\n",
    "For mer info sjekk [dokumentasjonen for pgVector](https://github.com/pgvector/pgvector)\n",
    "\n",
    "Basert på databasens resultater, får vi riktig kontekst for vår spørsmål. Men målet er å gi et presist svar, ikke bare en liknende setning.\n",
    "\n",
    "Her kommer LLM fra sesjon 3 inn, og vi bruker [flan-t5-base](https://huggingface.co/google/flan-t5-base) for å finne det eksakte svaret i den valgte konteksten. 🔥\n"
   ]
  },
  {
   "cell_type": "code",
   "execution_count": 1,
   "metadata": {},
   "outputs": [],
   "source": [
    "import numpy as np\n",
    "import psycopg2\n",
    "import pandas as pd\n",
    "\n",
    "from pgvector.psycopg2 import register_vector\n",
    "\n",
    "# Sett opp tilgang til PostgreSQL database\n",
    "conn = psycopg2.connect(user=\"svalbard\", \n",
    "                       password=\"!\", \n",
    "                       host=\"svalbard.postgres.database.azure.com\", \n",
    "                       port=5432, \n",
    "                       database=\"postgres\")\n",
    "\n",
    "register_vector(conn)\n",
    "cur = conn.cursor()"
   ]
  },
  {
   "cell_type": "code",
   "execution_count": 8,
   "metadata": {},
   "outputs": [],
   "source": [
    "# TODO: Lag en ny tabell, husk at du deler databasen med resten av gjengen så finn på et unikt navn!\n",
    "# Eks på SQL query for en tabell:\n",
    "\n",
    "cur.execute(\"CREATE TABLE YOUR_TABLE_HERE (id bigserial PRIMARY KEY, content text, embedding vector(384));\")\n",
    "conn.commit()\n",
    "\n",
    "# Lager en tabell \"YOUR_TABLE_HERE\" med tre kolonner: en unik ID (id), tekstinnhold (content), og en 384-dimensjonal vektor (embedding). id er primærnøkkel."
   ]
  },
  {
   "cell_type": "code",
   "execution_count": 13,
   "metadata": {},
   "outputs": [
    {
     "data": {
      "text/html": [
       "<pre style=\"white-space:pre;overflow-x:auto;line-height:normal;font-family:Menlo,'DejaVu Sans Mono',consolas,'Courier New',monospace\"><span style=\"font-weight: bold\">[</span>\n",
       "    <span style=\"color: #008000; text-decoration-color: #008000\">'London has 9,787,426 inhabitants at the 2011 census'</span>,\n",
       "    <span style=\"color: #008000; text-decoration-color: #008000\">'London is known for its finacial district'</span>,\n",
       "    <span style=\"color: #008000; text-decoration-color: #008000\">'Oslo is the capital in Norway'</span>,\n",
       "    <span style=\"color: #008000; text-decoration-color: #008000\">'Haugesund is located on the west coast of Norway'</span>,\n",
       "    <span style=\"color: #008000; text-decoration-color: #008000\">'Norway has the longest coastline in the world.'</span>,\n",
       "    <span style=\"color: #008000; text-decoration-color: #008000\">'Tromsø is often called the northern Paris'</span>,\n",
       "    <span style=\"color: #008000; text-decoration-color: #008000\">'Paris is the captial of France'</span>\n",
       "<span style=\"font-weight: bold\">]</span>\n",
       "</pre>\n"
      ],
      "text/plain": [
       "\u001b[1m[\u001b[0m\n",
       "    \u001b[32m'London has 9,787,426 inhabitants at the 2011 census'\u001b[0m,\n",
       "    \u001b[32m'London is known for its finacial district'\u001b[0m,\n",
       "    \u001b[32m'Oslo is the capital in Norway'\u001b[0m,\n",
       "    \u001b[32m'Haugesund is located on the west coast of Norway'\u001b[0m,\n",
       "    \u001b[32m'Norway has the longest coastline in the world.'\u001b[0m,\n",
       "    \u001b[32m'Tromsø is often called the northern Paris'\u001b[0m,\n",
       "    \u001b[32m'Paris is the captial of France'\u001b[0m\n",
       "\u001b[1m]\u001b[0m\n"
      ]
     },
     "metadata": {},
     "output_type": "display_data"
    }
   ],
   "source": [
    "# Vi sjekker dataen igjen, i neste notebook cell, skal vi ingeste denne i databasen sammen med embeddingen!\n",
    "print(data)\n",
    "\n",
    "# TODO: Hvis du vil kan du appende mer data i listen 🤓"
   ]
  },
  {
   "cell_type": "code",
   "execution_count": 10,
   "metadata": {},
   "outputs": [
    {
     "data": {
      "text/html": [
       "<pre style=\"white-space:pre;overflow-x:auto;line-height:normal;font-family:Menlo,'DejaVu Sans Mono',consolas,'Courier New',monospace\"><span style=\"color: #008080; text-decoration-color: #008080; font-weight: bold\">0</span> London has <span style=\"color: #008080; text-decoration-color: #008080; font-weight: bold\">9</span>,<span style=\"color: #008080; text-decoration-color: #008080; font-weight: bold\">787</span>,<span style=\"color: #008080; text-decoration-color: #008080; font-weight: bold\">426</span> inhabitants at the <span style=\"color: #008080; text-decoration-color: #008080; font-weight: bold\">2011</span> census\n",
       "</pre>\n"
      ],
      "text/plain": [
       "\u001b[1;36m0\u001b[0m London has \u001b[1;36m9\u001b[0m,\u001b[1;36m787\u001b[0m,\u001b[1;36m426\u001b[0m inhabitants at the \u001b[1;36m2011\u001b[0m census\n"
      ]
     },
     "metadata": {},
     "output_type": "display_data"
    },
    {
     "data": {
      "text/html": [
       "<pre style=\"white-space:pre;overflow-x:auto;line-height:normal;font-family:Menlo,'DejaVu Sans Mono',consolas,'Courier New',monospace\"><span style=\"color: #008080; text-decoration-color: #008080; font-weight: bold\">1</span> London is known for its finacial district\n",
       "</pre>\n"
      ],
      "text/plain": [
       "\u001b[1;36m1\u001b[0m London is known for its finacial district\n"
      ]
     },
     "metadata": {},
     "output_type": "display_data"
    },
    {
     "data": {
      "text/html": [
       "<pre style=\"white-space:pre;overflow-x:auto;line-height:normal;font-family:Menlo,'DejaVu Sans Mono',consolas,'Courier New',monospace\"><span style=\"color: #008080; text-decoration-color: #008080; font-weight: bold\">2</span> Oslo is the capital in Norway\n",
       "</pre>\n"
      ],
      "text/plain": [
       "\u001b[1;36m2\u001b[0m Oslo is the capital in Norway\n"
      ]
     },
     "metadata": {},
     "output_type": "display_data"
    },
    {
     "data": {
      "text/html": [
       "<pre style=\"white-space:pre;overflow-x:auto;line-height:normal;font-family:Menlo,'DejaVu Sans Mono',consolas,'Courier New',monospace\"><span style=\"color: #008080; text-decoration-color: #008080; font-weight: bold\">3</span> Haugesund is located on the west coast of Norway\n",
       "</pre>\n"
      ],
      "text/plain": [
       "\u001b[1;36m3\u001b[0m Haugesund is located on the west coast of Norway\n"
      ]
     },
     "metadata": {},
     "output_type": "display_data"
    },
    {
     "data": {
      "text/html": [
       "<pre style=\"white-space:pre;overflow-x:auto;line-height:normal;font-family:Menlo,'DejaVu Sans Mono',consolas,'Courier New',monospace\"><span style=\"color: #008080; text-decoration-color: #008080; font-weight: bold\">4</span> Norway has the longest coastline in the world.\n",
       "</pre>\n"
      ],
      "text/plain": [
       "\u001b[1;36m4\u001b[0m Norway has the longest coastline in the world.\n"
      ]
     },
     "metadata": {},
     "output_type": "display_data"
    },
    {
     "data": {
      "text/html": [
       "<pre style=\"white-space:pre;overflow-x:auto;line-height:normal;font-family:Menlo,'DejaVu Sans Mono',consolas,'Courier New',monospace\"><span style=\"color: #008080; text-decoration-color: #008080; font-weight: bold\">5</span> Tromsø is often called the northern Paris\n",
       "</pre>\n"
      ],
      "text/plain": [
       "\u001b[1;36m5\u001b[0m Tromsø is often called the northern Paris\n"
      ]
     },
     "metadata": {},
     "output_type": "display_data"
    },
    {
     "data": {
      "text/html": [
       "<pre style=\"white-space:pre;overflow-x:auto;line-height:normal;font-family:Menlo,'DejaVu Sans Mono',consolas,'Courier New',monospace\"><span style=\"color: #008080; text-decoration-color: #008080; font-weight: bold\">6</span> Paris is the captial of France\n",
       "</pre>\n"
      ],
      "text/plain": [
       "\u001b[1;36m6\u001b[0m Paris is the captial of France\n"
      ]
     },
     "metadata": {},
     "output_type": "display_data"
    }
   ],
   "source": [
    "\n",
    "# TODO: Husk å endre table navn\n",
    "for idx, sentence in enumerate(data):\n",
    "        print(idx, sentence)\n",
    "        emb = model.encode(sentence)\n",
    "        ## cur.execute('INSERT INTO YOUR_TABLE_HERE (content, embedding) VALUES (%s, %s)', (sentence, emb,))\n",
    "        ## conn.commit()\n"
   ]
  },
  {
   "cell_type": "code",
   "execution_count": null,
   "metadata": {},
   "outputs": [],
   "source": [
    "## TODO: Gjør en SQL query mot tabellen din\n",
    "\n",
    "#sql_query = \"SELECT * FROM XXXX\"\n",
    "#cur.execute(sql_query)\n",
    "rows = cur.fetchall()\n",
    "\n",
    "\n"
   ]
  },
  {
   "cell_type": "code",
   "execution_count": null,
   "metadata": {},
   "outputs": [],
   "source": [
    "# TIPS: Hvis dere er glad i pandas, så kan dere bruke pd.read_sql()\n",
    "\n",
    "# EKSEMPEL:  pd.read_sql(\"SELECT * FROM YOUR_TABLE_HERE LIMIT 10\", conn)"
   ]
  },
  {
   "cell_type": "markdown",
   "metadata": {},
   "source": [
    "Nå skal vi utnytte GPT-modellen fra forrige sesjon i kombinasjon med embeddings for å besvare spørsmål mer effektivt. Ved å bruke embeddings kan vi lage en \"query\" som representerer spørsmålet, og så søke i et datasett av dokumenter for å finne de mest relevante svarene. Dette gir oss en mer målrettet og nøyaktig måte å hente informasjon på.\n",
    "\n",
    "\n",
    "### Oppgave:\n",
    "1. Lag en spørring feks. 'Hva er hovedstaden i Norge' og se hvis resultatet matcher det du spør om og lag en embedding av det. **NB**: bør være innen emne som allerede ligger inn vektordatabasen.\n",
    "2. Konverter spørsmålet til embedding.\n",
    "3. Sjekk embeddingen imot tabellen i databasen \n",
    "4. Bruk f. eks. de to mest like setningene til å lage *contexten* som blir sendt inn til LLM modellen sammen med spørsmåølet.\n",
    "   F. eks på en promt med f-string:\n",
    "   ```\n",
    "   prompt = f\"\"\"\n",
    "   Answer the question using the content:\n",
    "   Question: {query}\n",
    "   Content: {answer}\n",
    "   \"\"\"\n",
    "   ``` \n",
    "5. Tokenzise promt'en og send det til modellen og få svaret."
   ]
  },
  {
   "cell_type": "code",
   "execution_count": 12,
   "metadata": {},
   "outputs": [
    {
     "data": {
      "text/html": [
       "<pre style=\"white-space:pre;overflow-x:auto;line-height:normal;font-family:Menlo,'DejaVu Sans Mono',consolas,'Courier New',monospace\">Question: Can you mention a city on the west coast?\n",
       "</pre>\n"
      ],
      "text/plain": [
       "Question: Can you mention a city on the west coast?\n"
      ]
     },
     "metadata": {},
     "output_type": "display_data"
    },
    {
     "data": {
      "text/html": [
       "<pre style=\"white-space:pre;overflow-x:auto;line-height:normal;font-family:Menlo,'DejaVu Sans Mono',consolas,'Courier New',monospace\">----------\n",
       "</pre>\n"
      ],
      "text/plain": [
       "----------\n"
      ]
     },
     "metadata": {},
     "output_type": "display_data"
    },
    {
     "data": {
      "text/html": [
       "<pre style=\"white-space:pre;overflow-x:auto;line-height:normal;font-family:Menlo,'DejaVu Sans Mono',consolas,'Courier New',monospace\">Content: Norway has the longest coastline in the world.. Haugesund is located on the west coast of Norway\n",
       "</pre>\n"
      ],
      "text/plain": [
       "Content: Norway has the longest coastline in the world.. Haugesund is located on the west coast of Norway\n"
      ]
     },
     "metadata": {},
     "output_type": "display_data"
    },
    {
     "data": {
      "text/html": [
       "<pre style=\"white-space:pre;overflow-x:auto;line-height:normal;font-family:Menlo,'DejaVu Sans Mono',consolas,'Courier New',monospace\">----------\n",
       "</pre>\n"
      ],
      "text/plain": [
       "----------\n"
      ]
     },
     "metadata": {},
     "output_type": "display_data"
    },
    {
     "data": {
      "text/html": [
       "<pre style=\"white-space:pre;overflow-x:auto;line-height:normal;font-family:Menlo,'DejaVu Sans Mono',consolas,'Courier New',monospace\">Answer: Haugesund\n",
       "</pre>\n"
      ],
      "text/plain": [
       "Answer: Haugesund\n"
      ]
     },
     "metadata": {},
     "output_type": "display_data"
    }
   ],
   "source": [
    "\n",
    "# TODO: Lag en spørring feks. 'Hva er hovedstaden i Norge' og se hvis resultatet matcher det du spør om og lag en embedding av det\n",
    "\n",
    "\n",
    "import torch\n",
    "from transformers import AutoModelForSeq2SeqLM\n",
    "from transformers import AutoTokenizer\n",
    "from transformers import GenerationConfig\n",
    "\n",
    "# Vi bruker \n",
    "\n",
    "# Last inn modellen\n",
    "model_name='google/flan-t5-base'\n",
    "original_model = AutoModelForSeq2SeqLM.from_pretrained(model_name, torch_dtype=torch.bfloat16)\n",
    "tokenizer = AutoTokenizer.from_pretrained(model_name)\n",
    "model2 = AutoModelForSeq2SeqLM.from_pretrained(model_name)\n",
    "\n",
    "\n",
    "# TODO: Lag et spørsmål (bør være innen emne som allerede ligger inn vektordatabasen )\n",
    "#query = \"Whats the capital of Norway?\"\n",
    "\n",
    "query = \"Can you mention a city on the west coast?\"\n",
    "emb = model.encode(query)\n",
    "\n",
    "# TODO: Sett inn embeddings for XXX\n",
    "df = pd.read_sql(f\"SELECT id, content, embedding <-> '{list(emb)}' AS distance FROM test01;\", conn)\n",
    "df\n",
    "\n",
    "# TODO: Lag en string med de mest aktuelle Get the most similar sentence from the dataframe, note the distance is L2\n",
    "\n",
    "answer = list(df.sort_values('distance').iloc[0:2].content)\n",
    "answer = '. '.join(answer)\n",
    "answer\n",
    "\n",
    "dialogue = \"Hello\"\n",
    "prompt = f\"\"\"\n",
    "Answer the question using the content:\n",
    "Question: {query}\n",
    "Content: {answer}\n",
    "\"\"\"\n",
    "\n",
    "inputs = tokenizer(prompt, return_tensors='pt')\n",
    "\n",
    "output = tokenizer.decode(\n",
    "    model2.generate(\n",
    "        inputs[\"input_ids\"], \n",
    "        max_new_tokens=100,\n",
    "        temperature=0,\n",
    "        top_k=3,\n",
    "    )[0], \n",
    "    skip_special_tokens=True\n",
    ")\n",
    "\n",
    "print(f\"Question: {query}\")\n",
    "print(10*\"-\")\n",
    "print(f\"Content: {answer}\")\n",
    "print(10*\"-\")\n",
    "print(f'Answer: {output.capitalize()}')\n",
    "\n"
   ]
  },
  {
   "cell_type": "markdown",
   "metadata": {},
   "source": [
    "# Ekstra\n",
    "\n",
    "Her fokuserer vi på \"clustering\" og klassifikasjon av tekst ved hjelp av embeddings. Vi bruker Principal Component Analysis (PCA) for å redusere dimensjonene av disse embeddingsene og projisere dem inn i et 2D-rom. Dette gjør det lettere å visualisere grupperinger og mønstre i dataene, som igjen kan hjelpe oss med å klassifisere tekster mer effektivt.\n",
    "\n",
    "## Oppgave\n",
    "Legg til en ny setning i datasettet, konverter til embedding og bruk PCA for å se dens plass i 2D-rommet. "
   ]
  },
  {
   "cell_type": "code",
   "execution_count": 243,
   "metadata": {},
   "outputs": [
    {
     "data": {
      "image/png": "[encoded data removed]",
      "text/plain": [
       "<Figure size 640x480 with 1 Axes>"
      ]
     },
     "metadata": {},
     "output_type": "display_data"
    }
   ],
   "source": [
    "import numpy as np\n",
    "from sklearn.decomposition import PCA\n",
    "import matplotlib.pyplot as plt\n",
    "\n",
    "\n",
    "in_1 = \"Mysterious flamingo spotted at the poolside.\"\n",
    "in_2 = \"Clever sea otter explains Kafka pipeline with illustrations.\"\n",
    "in_3 = \"Adorable baby panda enjoys a boat adventure.\"\n",
    "in_4 = \"Breakfast themed food truck beloved by all!\"\n",
    "in_5 = \"New curry restaurant aims to please!\"\n",
    "in_6 = \"Python developers are wonderful people.\"\n",
    "in_7 = \"TypeScript, C++ or Java? All are great!\" \n",
    "in_8 = \"Lunch at 11 a.m. is surprisingly early.\"\n",
    "in_9 = \"Pandas library is a must-have for data analysis!\"\n",
    "ln_10 = \"Pythons are formidable reptiles known for their sharp teeth and dangerous bites.\"\n",
    "ln_11 = \"Fortran is a language that is specialized for high-performance computing.\"\n",
    "\n",
    "input_text_lst_news = [in_1, in_2, in_3, in_4, in_5, in_6, in_7, in_8, in_9, ln_10, ln_11]\n",
    "\n",
    "embedding_lst_news = [model.encode(txt) for txt in input_text_lst_news]\n",
    "embedding_lst_news_array = np.array(embedding_lst_news) \n",
    "embedding_lst_news_array.shape[0]\n",
    "\n",
    "\n",
    "# Perform PCA for 2D visualization\n",
    "PCA_model = PCA(n_components = 2, random_state=42)\n",
    "PCA_model.fit(embedding_lst_news_array)\n",
    "new_values = PCA_model.transform(embedding_lst_news_array)\n",
    "\n",
    "\n",
    "plt.scatter(new_values[:, 0], new_values[:, 1])\n",
    "\n",
    "for i, label in enumerate(input_text_lst_news):\n",
    "    offset_y = np.random.randint(-30, 30)/100.+ 1\n",
    "    plt.annotate(label[:25] + \"..\", (new_values[i, 0], new_values[i, 1]*offset_y), \n",
    "                 textcoords=\"offset points\", xytext=(0,10), ha='center', fontsize=7)\n",
    "\n",
    "# Remove borders and ticks\n",
    "plt.title(\"Similarity\")\n",
    "plt.xticks([])\n",
    "plt.yticks([])\n",
    "plt.ylim([-1, 1])\n",
    "plt.box(False)\n",
    "\n"
   ]
  },
  {
   "cell_type": "markdown",
   "metadata": {},
   "source": [
    "\n",
    "Til slutt vil vi trene en enkel tekstklassifikator ved å bruke embeddings.\n",
    "\n",
    "**Advarsel:** Vi bruker en liten LLM-modell for dette. Resultatene vil være mye bedre med en state-of-the-art modell.\n",
    "\n",
    "Datasettet kommer fra [Kaggle Ecommerce Text Classification](https://www.kaggle.com/datasets/saurabhshahane/ecommerce-text-classification).\n",
    "Det er allerede prosessert til embddings og ligger i en tabell i databasen.\n",
    "\n",
    "Den innholder:\n",
    "- Number of Instances: 50425\n",
    "- Number of classes: 4\n",
    "\n",
    "hvor de fire kategoriene er: `Electronics`, `Household`, `Books` and `Clothing & Accessories`\n"
   ]
  },
  {
   "cell_type": "code",
   "execution_count": 15,
   "metadata": {},
   "outputs": [
    {
     "data": {
      "text/html": [
       "<div>\n",
       "<style scoped>\n",
       "    .dataframe tbody tr th:only-of-type {\n",
       "        vertical-align: middle;\n",
       "    }\n",
       "\n",
       "    .dataframe tbody tr th {\n",
       "        vertical-align: top;\n",
       "    }\n",
       "\n",
       "    .dataframe thead th {\n",
       "        text-align: right;\n",
       "    }\n",
       "</style>\n",
       "<table border=\"1\" class=\"dataframe\">\n",
       "  <thead>\n",
       "    <tr style=\"text-align: right;\">\n",
       "      <th></th>\n",
       "      <th>label</th>\n",
       "      <th>embedding</th>\n",
       "    </tr>\n",
       "  </thead>\n",
       "  <tbody>\n",
       "    <tr>\n",
       "      <th>8194</th>\n",
       "      <td>Household</td>\n",
       "      <td>[-0.013984185, 0.018803848, -0.043725364, -0.0...</td>\n",
       "    </tr>\n",
       "    <tr>\n",
       "      <th>34140</th>\n",
       "      <td>Clothing &amp; Accessories</td>\n",
       "      <td>[-0.04512606, 0.0746322, 0.042232543, 0.117384...</td>\n",
       "    </tr>\n",
       "    <tr>\n",
       "      <th>38517</th>\n",
       "      <td>Clothing &amp; Accessories</td>\n",
       "      <td>[-0.046745628, 0.11667362, 0.05726375, 0.04327...</td>\n",
       "    </tr>\n",
       "    <tr>\n",
       "      <th>48606</th>\n",
       "      <td>Electronics</td>\n",
       "      <td>[0.035663668, 0.03052294, -0.021249464, -0.008...</td>\n",
       "    </tr>\n",
       "    <tr>\n",
       "      <th>35605</th>\n",
       "      <td>Clothing &amp; Accessories</td>\n",
       "      <td>[-0.0013997748, 0.11280111, 0.054788843, 0.125...</td>\n",
       "    </tr>\n",
       "    <tr>\n",
       "      <th>29229</th>\n",
       "      <td>Books</td>\n",
       "      <td>[-0.03345464, -0.04719906, -0.007830159, 0.025...</td>\n",
       "    </tr>\n",
       "    <tr>\n",
       "      <th>4413</th>\n",
       "      <td>Household</td>\n",
       "      <td>[-0.009477889, 0.08370634, -0.006698783, -0.01...</td>\n",
       "    </tr>\n",
       "    <tr>\n",
       "      <th>24674</th>\n",
       "      <td>Books</td>\n",
       "      <td>[-0.06542809, -0.053665332, -0.025912888, 0.03...</td>\n",
       "    </tr>\n",
       "    <tr>\n",
       "      <th>10783</th>\n",
       "      <td>Household</td>\n",
       "      <td>[-0.045234445, 0.01401524, -0.04655242, 0.1012...</td>\n",
       "    </tr>\n",
       "    <tr>\n",
       "      <th>21421</th>\n",
       "      <td>Books</td>\n",
       "      <td>[-0.053666487, -0.026723858, -0.0033828584, 0....</td>\n",
       "    </tr>\n",
       "  </tbody>\n",
       "</table>\n",
       "</div>"
      ],
      "text/plain": [
       "                        label  \\\n",
       "8194                Household   \n",
       "34140  Clothing & Accessories   \n",
       "38517  Clothing & Accessories   \n",
       "48606             Electronics   \n",
       "35605  Clothing & Accessories   \n",
       "29229                   Books   \n",
       "4413                Household   \n",
       "24674                   Books   \n",
       "10783               Household   \n",
       "21421                   Books   \n",
       "\n",
       "                                               embedding  \n",
       "8194   [-0.013984185, 0.018803848, -0.043725364, -0.0...  \n",
       "34140  [-0.04512606, 0.0746322, 0.042232543, 0.117384...  \n",
       "38517  [-0.046745628, 0.11667362, 0.05726375, 0.04327...  \n",
       "48606  [0.035663668, 0.03052294, -0.021249464, -0.008...  \n",
       "35605  [-0.0013997748, 0.11280111, 0.054788843, 0.125...  \n",
       "29229  [-0.03345464, -0.04719906, -0.007830159, 0.025...  \n",
       "4413   [-0.009477889, 0.08370634, -0.006698783, -0.01...  \n",
       "24674  [-0.06542809, -0.053665332, -0.025912888, 0.03...  \n",
       "10783  [-0.045234445, 0.01401524, -0.04655242, 0.1012...  \n",
       "21421  [-0.053666487, -0.026723858, -0.0033828584, 0....  "
      ]
     },
     "execution_count": 15,
     "metadata": {},
     "output_type": "execute_result"
    }
   ],
   "source": [
    "# Last inn datasett som skal brukes til tekst klassifisering\n",
    "\n",
    "## DETTE ER RÅ-DATA, hvis dere er nysgjerrig på datasettet\n",
    "### https://www.kaggle.com/datasets/saurabhshahane/ecommerce-text-classification\n",
    "###df = pd.read_csv('fun_facts.csv', sep=\";\")\n",
    "\n",
    "\n",
    "# Dataen er allerede pre-prossesert og lagt inn i databasen\n",
    "df = pd.read_sql(\"\"\" SELECT label, embedding FROM ecommerce  \"\"\", conn)\n",
    "\n",
    "x = np.vstack(df.embedding.values)\n",
    "y = df.label.values\n",
    "\n",
    "# Vis 10 random embeddings\n",
    "df.sample(10, random_state=42)\n"
   ]
  },
  {
   "cell_type": "markdown",
   "metadata": {},
   "source": [
    "La oss først pm det er noen variasjonener i datasettet med bruk av PCA til reduserer dimensjonaliteten.\n",
    " "
   ]
  },
  {
   "cell_type": "code",
   "execution_count": 16,
   "metadata": {},
   "outputs": [
    {
     "data": {
      "image/png": "[encoded data removed]",
      "text/plain": [
       "<Figure size 640x480 with 1 Axes>"
      ]
     },
     "metadata": {},
     "output_type": "display_data"
    }
   ],
   "source": [
    "\n",
    "import matplotlib.pyplot as plt\n",
    "import matplotlib.patches as mpatches\n",
    "\n",
    "from sklearn.decomposition import PCA\n",
    "\n",
    "# Perform PCA for 2D visualization\n",
    "PCA_model = PCA(n_components = 2, random_state=42)\n",
    "PCA_model.fit(x)\n",
    "new_values = PCA_model.transform(x)\n",
    "\n",
    "colors_setting = {\n",
    "          \"Clothing & Accessories\": \"#008744\", \n",
    "          \"Electronics\": \"#0057e7\",\n",
    "          \"Household\": \"#d62d20\",\n",
    "          \"Books\": \"#ffa700\"\n",
    "          }\n",
    "\n",
    "c = [colors_setting[j] for j in y]\n",
    "\n",
    "\n",
    "patches = [mpatches.Patch(color=c, label=l) for l, c in colors_setting.items()]\n",
    "\n",
    "plt.scatter(new_values[:, 0], new_values[:, 1], c=c, alpha=0.2, s=0.1)\n",
    "plt.legend(handles=patches, loc='upper right')\n",
    "\n",
    "for i, label in enumerate(x):\n",
    "    offset_y = np.random.randint(-30, 30)/100.+ 1\n",
    "    #plt.annotate(label[:20] + \"..\", (new_values[i, 0], new_values[i, 1]*offset_y), \n",
    "    #             textcoords=\"offset points\", xytext=(0,10), ha='center', fontsize=7)\n",
    "\n",
    "# Remove borders and ticks\n",
    "plt.title(\"Similarity\")\n",
    "plt.xticks([])\n",
    "plt.yticks([])\n",
    "plt.ylim([-1, 1])\n",
    "plt.box(False)"
   ]
  },
  {
   "cell_type": "markdown",
   "metadata": {},
   "source": [
    "Resultatet viser en separasjon mellom de ulike klassene, så nå kan vi bygge en klassifiseringsmodell.\n",
    "\n",
    "**IF-TODO:** I dette eksemplet bruker vi RandomForest, som er robust i de fleste tilfeller. Men prøv gjerne andre modeller for å se hvordan de presterer."
   ]
  },
  {
   "cell_type": "code",
   "execution_count": 17,
   "metadata": {},
   "outputs": [
    {
     "data": {
      "text/html": [
       "<pre style=\"white-space:pre;overflow-x:auto;line-height:normal;font-family:Menlo,'DejaVu Sans Mono',consolas,'Courier New',monospace\">Accuracy: <span style=\"color: #008080; text-decoration-color: #008080; font-weight: bold\">0.95</span>\n",
       "</pre>\n"
      ],
      "text/plain": [
       "Accuracy: \u001b[1;36m0.95\u001b[0m\n"
      ]
     },
     "metadata": {},
     "output_type": "display_data"
    }
   ],
   "source": [
    "from sklearn.metrics import accuracy_score\n",
    "from sklearn.ensemble import RandomForestClassifier\n",
    "from sklearn.model_selection import train_test_split\n",
    "\n",
    "x_train, x_test, y_train, y_test = train_test_split(x, \n",
    "                                                    y, \n",
    "                                                    test_size = 0.2, \n",
    "                                                    random_state=42)\n",
    "\n",
    "clf = RandomForestClassifier(n_estimators=100, \n",
    "                             max_samples=0.2, \n",
    "                             max_depth=20,\n",
    "                             random_state=42, \n",
    "                             n_jobs=-1, \n",
    "                             class_weight='balanced')\n",
    "\n",
    "clf.fit(x_train, y_train)\n",
    "y_pred = clf.predict(x_test)\n",
    "accuracy = accuracy_score(y_test, y_pred) \n",
    "print(f\"Accuracy: {accuracy:0.2f}\")\n"
   ]
  },
  {
   "cell_type": "code",
   "execution_count": 35,
   "metadata": {},
   "outputs": [
    {
     "data": {
      "text/html": [
       "<pre style=\"white-space:pre;overflow-x:auto;line-height:normal;font-family:Menlo,'DejaVu Sans Mono',consolas,'Courier New',monospace\">--------------------------------------------------\n",
       "</pre>\n"
      ],
      "text/plain": [
       "--------------------------------------------------\n"
      ]
     },
     "metadata": {},
     "output_type": "display_data"
    },
    {
     "data": {
      "text/html": [
       "<pre style=\"white-space:pre;overflow-x:auto;line-height:normal;font-family:Menlo,'DejaVu Sans Mono',consolas,'Courier New',monospace\">Input: ACE Stainless Steel Steak Knife <span style=\"font-weight: bold\">(</span>Colors May Vary<span style=\"font-weight: bold\">)</span> Ace S..\n",
       "</pre>\n"
      ],
      "text/plain": [
       "Input: ACE Stainless Steel Steak Knife \u001b[1m(\u001b[0mColors May Vary\u001b[1m)\u001b[0m Ace S..\n"
      ]
     },
     "metadata": {},
     "output_type": "display_data"
    },
    {
     "data": {
      "text/html": [
       "<pre style=\"white-space:pre;overflow-x:auto;line-height:normal;font-family:Menlo,'DejaVu Sans Mono',consolas,'Courier New',monospace\">Prediction: Household\n",
       "</pre>\n"
      ],
      "text/plain": [
       "Prediction: Household\n"
      ]
     },
     "metadata": {},
     "output_type": "display_data"
    },
    {
     "data": {
      "text/html": [
       "<pre style=\"white-space:pre;overflow-x:auto;line-height:normal;font-family:Menlo,'DejaVu Sans Mono',consolas,'Courier New',monospace\">Correct: Household\n",
       "</pre>\n"
      ],
      "text/plain": [
       "Correct: Household\n"
      ]
     },
     "metadata": {},
     "output_type": "display_data"
    },
    {
     "data": {
      "text/html": [
       "<pre style=\"white-space:pre;overflow-x:auto;line-height:normal;font-family:Menlo,'DejaVu Sans Mono',consolas,'Courier New',monospace\">--------------------------------------------------\n",
       "</pre>\n"
      ],
      "text/plain": [
       "--------------------------------------------------\n"
      ]
     },
     "metadata": {},
     "output_type": "display_data"
    },
    {
     "data": {
      "text/html": [
       "<pre style=\"white-space:pre;overflow-x:auto;line-height:normal;font-family:Menlo,'DejaVu Sans Mono',consolas,'Courier New',monospace\">Input: We can use this for cleaning\n",
       "</pre>\n"
      ],
      "text/plain": [
       "Input: We can use this for cleaning\n"
      ]
     },
     "metadata": {},
     "output_type": "display_data"
    },
    {
     "data": {
      "text/html": [
       "<pre style=\"white-space:pre;overflow-x:auto;line-height:normal;font-family:Menlo,'DejaVu Sans Mono',consolas,'Courier New',monospace\">Prediction: Household\n",
       "</pre>\n"
      ],
      "text/plain": [
       "Prediction: Household\n"
      ]
     },
     "metadata": {},
     "output_type": "display_data"
    }
   ],
   "source": [
    "# Bruker en fra test datasettet, velg en random index\n",
    "idx = 52\n",
    "question_embedding = x_test[idx]\n",
    "# get the embedding of this question and predict its category\n",
    "pred = clf.predict(question_embedding.reshape(1, -1))\n",
    "txt = pd.read_sql(f\"SELECT * FROM ecommerce ORDER BY embedding <=> '{list(question_embedding)}' LIMIT 1\", conn).content[0]\n",
    "\n",
    "print(50*\"-\")\n",
    "print(f\"Input: {txt[:55]}..\")\n",
    "print(f\"Prediction: {pred[0]}\")\n",
    "print(f\"Correct: {y_test[idx]}\")\n",
    "print(50*\"-\")\n",
    "\n",
    "\n",
    "## MANUALLY\n",
    "txt = \"We can use this for cleaning\"\n",
    "# get the embedding of this question and predict its category\n",
    "question_embedding = model.encode([txt])\n",
    "pred = clf.predict(question_embedding)\n",
    "\n",
    "print(f\"Input: {txt[:55]}\") \n",
    "print(f\"Prediction: {pred[0]}\")"
   ]
  },
  {
   "cell_type": "markdown",
   "metadata": {},
   "source": [
    "# Ekstra\n",
    "Nå har du fått en forståelse av hvordan du kan bygge en tabell med ekstern data. Neste steg er å \"ingeste\" et datasett eller en bok inn i denne tabellen.\n",
    "\n",
    "1. Del opp teksten i \"chunks\" for å isolere innhold og fange opp kontekst ved spørringer. Valget av \"chunk\"-størrelse kan være empirisk og avhenge av datatypen. Du kan også bruke en \"sliding window\" med overlappende tekst.\n",
    "2. Lag en ny tabell (sørg for et unikt navn på tabellen).\n",
    "3. Ingest dataen inn i tabellen.\n",
    "4. Utfør en spørring for å hente ut relevant informasjon.\n",
    "\n",
    "**Tips:** Å splitte teksten på . kan fungere fint for denne øvelsen, eller du kan bruke biblioteker som spacy for en mer avansert oppdeling.\n",
    "\n",
    "\n",
    "I denne oppgaven anbefales det å bruke en engelskspråklig artikkel. Bruk gjerne ChatGPT til å oversette en VG/Aftenposten artikkel til engelsk, og bruk det som et eksempel."
   ]
  }
 ],
 "metadata": {
  "kernelspec": {
   "display_name": "base",
   "language": "python",
   "name": "python3"
  },
  "language_info": {
   "codemirror_mode": {
    "name": "ipython",
    "version": 3
   },
   "file_extension": ".py",
   "mimetype": "text/x-python",
   "name": "python",
   "nbconvert_exporter": "python",
   "pygments_lexer": "ipython3",
   "version": "3.11.4"
  },
  "orig_nbformat": 4
 },
 "nbformat": 4,
 "nbformat_minor": 2
}
